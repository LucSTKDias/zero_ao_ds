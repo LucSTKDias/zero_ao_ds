{
 "cells": [
  {
   "cell_type": "markdown",
   "id": "incomplete-chocolate",
   "metadata": {
    "heading_collapsed": true
   },
   "source": [
    "# Aula 01"
   ]
  },
  {
   "cell_type": "code",
   "execution_count": 5,
   "id": "smooth-journalism",
   "metadata": {
    "ExecuteTime": {
     "end_time": "2021-02-27T20:20:40.501803Z",
     "start_time": "2021-02-27T20:20:39.551989Z"
    },
    "hidden": true
   },
   "outputs": [
    {
     "name": "stdout",
     "output_type": "stream",
     "text": [
      "\u001b[31mERROR: Could not find a version that satisfies the requirement Python3.8\u001b[0m\r\n",
      "\u001b[31mERROR: No matching distribution found for Python3.8\u001b[0m\r\n"
     ]
    }
   ],
   "source": []
  },
  {
   "cell_type": "markdown",
   "id": "delayed-three",
   "metadata": {
    "heading_collapsed": true
   },
   "source": [
    "# 1.0. Início"
   ]
  },
  {
   "cell_type": "markdown",
   "id": "differential-tattoo",
   "metadata": {
    "hidden": true
   },
   "source": [
    "## Agenda:"
   ]
  },
  {
   "cell_type": "code",
   "execution_count": null,
   "id": "decent-fundamentals",
   "metadata": {
    "hidden": true
   },
   "outputs": [],
   "source": [
    "# 1. O problema de negócio.\n",
    "# 2. Planejamento da solução.\n",
    "# 3. O que é Python?\n",
    "# 4. Como escrever código Python?\n",
    "# 5. Os primeiros comandos em Python.\n",
    "# 6. Responder as questões de negócio.\n",
    "# 7. Exercícios."
   ]
  },
  {
   "cell_type": "markdown",
   "id": "involved-haiti",
   "metadata": {
    "heading_collapsed": true,
    "hidden": true
   },
   "source": [
    "## Bibliotecas"
   ]
  },
  {
   "cell_type": "code",
   "execution_count": 1,
   "id": "distant-breeding",
   "metadata": {
    "ExecuteTime": {
     "end_time": "2021-02-27T18:59:28.347103Z",
     "start_time": "2021-02-27T18:59:27.895492Z"
    },
    "hidden": true
   },
   "outputs": [],
   "source": [
    "import pandas as pd"
   ]
  },
  {
   "cell_type": "markdown",
   "id": "identical-hudson",
   "metadata": {
    "heading_collapsed": true,
    "hidden": true
   },
   "source": [
    "## Importação de dados"
   ]
  },
  {
   "cell_type": "code",
   "execution_count": 6,
   "id": "sophisticated-rolling",
   "metadata": {
    "ExecuteTime": {
     "end_time": "2021-02-27T20:24:33.995168Z",
     "start_time": "2021-02-27T20:24:33.968551Z"
    },
    "hidden": true
   },
   "outputs": [],
   "source": [
    "data = pd.read_csv('/home/luis/DS/Zero_Ao_DS/data/kc_house_data.csv')"
   ]
  },
  {
   "cell_type": "markdown",
   "id": "married-vulnerability",
   "metadata": {
    "heading_collapsed": true,
    "hidden": true
   },
   "source": [
    "## Perguntas do CEO"
   ]
  },
  {
   "cell_type": "code",
   "execution_count": null,
   "id": "parliamentary-toilet",
   "metadata": {
    "hidden": true
   },
   "outputs": [],
   "source": [
    "# A principal estratégia?\n",
    "# -Fontes externas para encontrar bons negócios.\n",
    "\n",
    "# As perguntas do CEO da House Rocket:\n",
    "# 1. Quantas casas estão disponíveis para compra?\n",
    "# 2. Quantos atributos as casas possuem? (número de quartos, número de garagens, m2, vista para o mar)\n",
    "# 3. Quais são os atributos?\n",
    "# 4. Qual a casa mais cara do portifólio?\n",
    "# 5. Qual a casa com o maior número de quartos?"
   ]
  },
  {
   "cell_type": "markdown",
   "id": "ideal-saint",
   "metadata": {
    "heading_collapsed": true
   },
   "source": [
    "# 2.0. Planejamento da solução"
   ]
  },
  {
   "cell_type": "markdown",
   "id": "ethical-belgium",
   "metadata": {
    "hidden": true
   },
   "source": [
    "## 2.1. Planjamento do produto final."
   ]
  },
  {
   "cell_type": "code",
   "execution_count": null,
   "id": "biological-proposition",
   "metadata": {
    "hidden": true
   },
   "outputs": [],
   "source": [
    "# O que vou entregar? (Planilha, Texto, Email, Modelos de ML,...)\n",
    "# R.: Textos com as respostas.\n",
    "\n",
    "# Como vai ser a entrega?\n",
    "# R.: Perguntas | Respostas\n",
    "\n",
    "#"
   ]
  },
  {
   "cell_type": "markdown",
   "id": "subtle-arthur",
   "metadata": {
    "hidden": true
   },
   "source": [
    "## 2.2. Planejamento do processo."
   ]
  },
  {
   "cell_type": "code",
   "execution_count": null,
   "id": "hairy-presence",
   "metadata": {
    "hidden": true
   },
   "outputs": [],
   "source": [
    "# Onde está a informação? (Excel, BD, API, manual,...)\n",
    "# R.: https://www.kaggle.com/harlfoxem/housesalesprediction\n",
    "\n",
    "# Como coletar essas informações? (SQL, Pthon, Streamlit,...)\n",
    "# Download do dataset \"House Sales Prediction\" no Kaggle\n",
    "\n",
    "# Responder as perguntas:\n",
    "# -Quantas casas estão disponíveis para compra?\n",
    "#  R.: Contar o número de linhas do conjunto de dados.\n",
    "\n",
    "# -Quantos atributos as casas possuem?\n",
    "#  R.: Contar o número de colunas do conjunto de dados.\n",
    "\n",
    "# -Qual a casa mais cara do portifólio?\n",
    "#  R.:Ordenar as linhas pela coluna de preço.\n",
    "\n",
    "# -Qual a casa com o maior número de quartos?\n",
    "#  R.:Ordenar o número de linhas pela coluna número de quartos\n",
    "\n"
   ]
  },
  {
   "cell_type": "markdown",
   "id": "moved-decimal",
   "metadata": {
    "hidden": true
   },
   "source": [
    "## 2.3. Planejamento das ferramentas."
   ]
  },
  {
   "cell_type": "code",
   "execution_count": null,
   "id": "numeric-chemical",
   "metadata": {
    "hidden": true
   },
   "outputs": [],
   "source": [
    "# Quais ferramentas eu posso usar?\n",
    "# - Excel( Fácil de usar, barato, usado pelos times não técnicos, poder de processamento limitado (1MM de linhas))\n",
    "\n",
    "# - Linguagem de programação ( Desenvolvida para criar softwares, escalável, modularização,...)"
   ]
  },
  {
   "cell_type": "markdown",
   "id": "indoor-mauritius",
   "metadata": {
    "heading_collapsed": true
   },
   "source": [
    "# 3.0. O que é o Python?"
   ]
  },
  {
   "cell_type": "code",
   "execution_count": null,
   "id": "enormous-animal",
   "metadata": {
    "hidden": true
   },
   "outputs": [],
   "source": [
    "# O que é uma linguagem de programação?\n",
    "\n",
    "# Wikipedia: \"A linguagem de programação é um método padronizado, formado por um conjunto de \n",
    "# regras sintáticas e semânticas, de implementação de um código fonte - que pode ser compilado e \n",
    "# transformado em um programa de computador, ou usado como script interpretado - \n",
    "# que informará instruções de processamento ao computador. Permite que um programador \n",
    "# especifique precisamente quais os dados que o computador irá atuar, como estes dados serão armazenados ou \n",
    "# transmitidos e, quais ações devem ser tomadas de acordo com as circunstâncias. Linguagens de programação podem \n",
    "# ser usadas para expressar algoritmos com precisão.\""
   ]
  },
  {
   "cell_type": "markdown",
   "id": "sophisticated-possible",
   "metadata": {
    "heading_collapsed": true
   },
   "source": [
    "# 4.0 Como escrever código Python?"
   ]
  },
  {
   "cell_type": "code",
   "execution_count": null,
   "id": "frank-counter",
   "metadata": {
    "hidden": true
   },
   "outputs": [],
   "source": [
    "# Editor de texto:\n",
    "# -Bloco de Notas\n",
    "# -Gedit\n",
    "# -TextEdit"
   ]
  },
  {
   "cell_type": "code",
   "execution_count": null,
   "id": "small-collins",
   "metadata": {
    "hidden": true
   },
   "outputs": [],
   "source": [
    "# Interpretador:\n",
    "# -Python 2.x\n",
    "# -Python 3.x\n",
    "# IDE (Interface Development Enviroment):\n",
    "# -PyCharm\n",
    "# -Spyder\n",
    "# -VSCode\n",
    "# -JupyterLab"
   ]
  },
  {
   "cell_type": "markdown",
   "id": "resident-finance",
   "metadata": {},
   "source": [
    "# 5.0 Os primeiros comandos em Python."
   ]
  },
  {
   "cell_type": "code",
   "execution_count": null,
   "id": "third-cheat",
   "metadata": {},
   "outputs": [],
   "source": [
    "#Esse capítulo foi executado no PyCharm."
   ]
  },
  {
   "cell_type": "code",
   "execution_count": null,
   "id": "caring-patent",
   "metadata": {},
   "outputs": [],
   "source": [
    "#import pandas as pd\n",
    "#data = pd.read_csv(\"endereço do banco de dados\")\n"
   ]
  },
  {
   "cell_type": "code",
   "execution_count": null,
   "id": "acceptable-farmer",
   "metadata": {},
   "outputs": [],
   "source": [
    "data.head()"
   ]
  },
  {
   "cell_type": "code",
   "execution_count": 10,
   "id": "bottom-wonder",
   "metadata": {
    "ExecuteTime": {
     "end_time": "2021-02-27T20:25:46.607233Z",
     "start_time": "2021-02-27T20:25:46.603387Z"
    }
   },
   "outputs": [
    {
     "data": {
      "text/plain": [
       "(21613, 21)"
      ]
     },
     "execution_count": 10,
     "metadata": {},
     "output_type": "execute_result"
    }
   ],
   "source": [
    "#Mostre na tela o número de colunas e o número de linhas do conjunto:\n",
    "data.shape"
   ]
  },
  {
   "cell_type": "code",
   "execution_count": 11,
   "id": "residential-donna",
   "metadata": {
    "ExecuteTime": {
     "end_time": "2021-02-27T20:27:31.421327Z",
     "start_time": "2021-02-27T20:27:31.417459Z"
    }
   },
   "outputs": [
    {
     "data": {
      "text/plain": [
       "Index(['id', 'date', 'price', 'bedrooms', 'bathrooms', 'sqft_living',\n",
       "       'sqft_lot', 'floors', 'waterfront', 'view', 'condition', 'grade',\n",
       "       'sqft_above', 'sqft_basement', 'yr_built', 'yr_renovated', 'zipcode',\n",
       "       'lat', 'long', 'sqft_living15', 'sqft_lot15'],\n",
       "      dtype='object')"
      ]
     },
     "execution_count": 11,
     "metadata": {},
     "output_type": "execute_result"
    }
   ],
   "source": [
    "#Mostre na tela o nome das colunas do conjunto de dados\n",
    "data.columns"
   ]
  },
  {
   "cell_type": "code",
   "execution_count": 14,
   "id": "bacterial-farmer",
   "metadata": {
    "ExecuteTime": {
     "end_time": "2021-02-27T20:29:41.440427Z",
     "start_time": "2021-02-27T20:29:41.419452Z"
    }
   },
   "outputs": [
    {
     "data": {
      "text/html": [
       "<div>\n",
       "<style scoped>\n",
       "    .dataframe tbody tr th:only-of-type {\n",
       "        vertical-align: middle;\n",
       "    }\n",
       "\n",
       "    .dataframe tbody tr th {\n",
       "        vertical-align: top;\n",
       "    }\n",
       "\n",
       "    .dataframe thead th {\n",
       "        text-align: right;\n",
       "    }\n",
       "</style>\n",
       "<table border=\"1\" class=\"dataframe\">\n",
       "  <thead>\n",
       "    <tr style=\"text-align: right;\">\n",
       "      <th></th>\n",
       "      <th>id</th>\n",
       "      <th>price</th>\n",
       "    </tr>\n",
       "  </thead>\n",
       "  <tbody>\n",
       "    <tr>\n",
       "      <th>1149</th>\n",
       "      <td>3421079032</td>\n",
       "      <td>75000.0</td>\n",
       "    </tr>\n",
       "    <tr>\n",
       "      <th>15293</th>\n",
       "      <td>40000362</td>\n",
       "      <td>78000.0</td>\n",
       "    </tr>\n",
       "    <tr>\n",
       "      <th>465</th>\n",
       "      <td>8658300340</td>\n",
       "      <td>80000.0</td>\n",
       "    </tr>\n",
       "    <tr>\n",
       "      <th>16198</th>\n",
       "      <td>3028200080</td>\n",
       "      <td>81000.0</td>\n",
       "    </tr>\n",
       "    <tr>\n",
       "      <th>8274</th>\n",
       "      <td>3883800011</td>\n",
       "      <td>82000.0</td>\n",
       "    </tr>\n",
       "    <tr>\n",
       "      <th>...</th>\n",
       "      <td>...</td>\n",
       "      <td>...</td>\n",
       "    </tr>\n",
       "    <tr>\n",
       "      <th>1448</th>\n",
       "      <td>8907500070</td>\n",
       "      <td>5350000.0</td>\n",
       "    </tr>\n",
       "    <tr>\n",
       "      <th>4411</th>\n",
       "      <td>2470100110</td>\n",
       "      <td>5570000.0</td>\n",
       "    </tr>\n",
       "    <tr>\n",
       "      <th>9254</th>\n",
       "      <td>9208900037</td>\n",
       "      <td>6885000.0</td>\n",
       "    </tr>\n",
       "    <tr>\n",
       "      <th>3914</th>\n",
       "      <td>9808700762</td>\n",
       "      <td>7062500.0</td>\n",
       "    </tr>\n",
       "    <tr>\n",
       "      <th>7252</th>\n",
       "      <td>6762700020</td>\n",
       "      <td>7700000.0</td>\n",
       "    </tr>\n",
       "  </tbody>\n",
       "</table>\n",
       "<p>21613 rows × 2 columns</p>\n",
       "</div>"
      ],
      "text/plain": [
       "               id      price\n",
       "1149   3421079032    75000.0\n",
       "15293    40000362    78000.0\n",
       "465    8658300340    80000.0\n",
       "16198  3028200080    81000.0\n",
       "8274   3883800011    82000.0\n",
       "...           ...        ...\n",
       "1448   8907500070  5350000.0\n",
       "4411   2470100110  5570000.0\n",
       "9254   9208900037  6885000.0\n",
       "3914   9808700762  7062500.0\n",
       "7252   6762700020  7700000.0\n",
       "\n",
       "[21613 rows x 2 columns]"
      ]
     },
     "execution_count": 14,
     "metadata": {},
     "output_type": "execute_result"
    }
   ],
   "source": [
    "#Mostre na tela o conjunto de dados ordenados pela coluna price\n",
    "data[['id', 'price']].sort_values('price')"
   ]
  },
  {
   "cell_type": "code",
   "execution_count": 15,
   "id": "honest-watts",
   "metadata": {
    "ExecuteTime": {
     "end_time": "2021-02-27T20:41:09.865938Z",
     "start_time": "2021-02-27T20:41:09.852999Z"
    }
   },
   "outputs": [
    {
     "data": {
      "text/html": [
       "<div>\n",
       "<style scoped>\n",
       "    .dataframe tbody tr th:only-of-type {\n",
       "        vertical-align: middle;\n",
       "    }\n",
       "\n",
       "    .dataframe tbody tr th {\n",
       "        vertical-align: top;\n",
       "    }\n",
       "\n",
       "    .dataframe thead th {\n",
       "        text-align: right;\n",
       "    }\n",
       "</style>\n",
       "<table border=\"1\" class=\"dataframe\">\n",
       "  <thead>\n",
       "    <tr style=\"text-align: right;\">\n",
       "      <th></th>\n",
       "      <th>id</th>\n",
       "      <th>price</th>\n",
       "    </tr>\n",
       "  </thead>\n",
       "  <tbody>\n",
       "    <tr>\n",
       "      <th>7252</th>\n",
       "      <td>6762700020</td>\n",
       "      <td>7700000.0</td>\n",
       "    </tr>\n",
       "    <tr>\n",
       "      <th>3914</th>\n",
       "      <td>9808700762</td>\n",
       "      <td>7062500.0</td>\n",
       "    </tr>\n",
       "    <tr>\n",
       "      <th>9254</th>\n",
       "      <td>9208900037</td>\n",
       "      <td>6885000.0</td>\n",
       "    </tr>\n",
       "    <tr>\n",
       "      <th>4411</th>\n",
       "      <td>2470100110</td>\n",
       "      <td>5570000.0</td>\n",
       "    </tr>\n",
       "    <tr>\n",
       "      <th>1448</th>\n",
       "      <td>8907500070</td>\n",
       "      <td>5350000.0</td>\n",
       "    </tr>\n",
       "    <tr>\n",
       "      <th>...</th>\n",
       "      <td>...</td>\n",
       "      <td>...</td>\n",
       "    </tr>\n",
       "    <tr>\n",
       "      <th>8274</th>\n",
       "      <td>3883800011</td>\n",
       "      <td>82000.0</td>\n",
       "    </tr>\n",
       "    <tr>\n",
       "      <th>16198</th>\n",
       "      <td>3028200080</td>\n",
       "      <td>81000.0</td>\n",
       "    </tr>\n",
       "    <tr>\n",
       "      <th>465</th>\n",
       "      <td>8658300340</td>\n",
       "      <td>80000.0</td>\n",
       "    </tr>\n",
       "    <tr>\n",
       "      <th>15293</th>\n",
       "      <td>40000362</td>\n",
       "      <td>78000.0</td>\n",
       "    </tr>\n",
       "    <tr>\n",
       "      <th>1149</th>\n",
       "      <td>3421079032</td>\n",
       "      <td>75000.0</td>\n",
       "    </tr>\n",
       "  </tbody>\n",
       "</table>\n",
       "<p>21613 rows × 2 columns</p>\n",
       "</div>"
      ],
      "text/plain": [
       "               id      price\n",
       "7252   6762700020  7700000.0\n",
       "3914   9808700762  7062500.0\n",
       "9254   9208900037  6885000.0\n",
       "4411   2470100110  5570000.0\n",
       "1448   8907500070  5350000.0\n",
       "...           ...        ...\n",
       "8274   3883800011    82000.0\n",
       "16198  3028200080    81000.0\n",
       "465    8658300340    80000.0\n",
       "15293    40000362    78000.0\n",
       "1149   3421079032    75000.0\n",
       "\n",
       "[21613 rows x 2 columns]"
      ]
     },
     "execution_count": 15,
     "metadata": {},
     "output_type": "execute_result"
    }
   ],
   "source": [
    "#mostre na tela o conjunto de dados ordenados pela coluna price do maior para o menor\n",
    "data[['id', 'price']].sort_values('price', ascending=False)"
   ]
  },
  {
   "cell_type": "code",
   "execution_count": null,
   "id": "formal-agency",
   "metadata": {},
   "outputs": [],
   "source": []
  },
  {
   "cell_type": "markdown",
   "id": "headed-screw",
   "metadata": {
    "heading_collapsed": true
   },
   "source": [
    "# 6.0 Responder as questões de negócio."
   ]
  },
  {
   "cell_type": "code",
   "execution_count": null,
   "id": "solved-north",
   "metadata": {
    "hidden": true
   },
   "outputs": [],
   "source": []
  },
  {
   "cell_type": "markdown",
   "id": "sudden-asthma",
   "metadata": {},
   "source": [
    "# 7.0 Exercícios."
   ]
  },
  {
   "cell_type": "code",
   "execution_count": 18,
   "id": "employed-information",
   "metadata": {
    "ExecuteTime": {
     "end_time": "2021-02-27T20:48:29.206474Z",
     "start_time": "2021-02-27T20:48:29.192703Z"
    }
   },
   "outputs": [
    {
     "data": {
      "text/plain": [
       "False    21436\n",
       "True       177\n",
       "Name: id, dtype: int64"
      ]
     },
     "execution_count": 18,
     "metadata": {},
     "output_type": "execute_result"
    }
   ],
   "source": [
    "#Há duplicatas?\n",
    "data['id'].duplicated().value_counts()"
   ]
  },
  {
   "cell_type": "code",
   "execution_count": 19,
   "id": "ruled-mapping",
   "metadata": {
    "ExecuteTime": {
     "end_time": "2021-02-27T20:49:18.220386Z",
     "start_time": "2021-02-27T20:49:18.212463Z"
    }
   },
   "outputs": [],
   "source": [
    "#Remoção de duplicatas\n",
    "data.drop_duplicates(subset='id', keep='last', inplace=True)"
   ]
  },
  {
   "cell_type": "code",
   "execution_count": 23,
   "id": "upset-calculator",
   "metadata": {
    "ExecuteTime": {
     "end_time": "2021-02-27T20:52:42.941636Z",
     "start_time": "2021-02-27T20:52:42.938582Z"
    }
   },
   "outputs": [
    {
     "name": "stdout",
     "output_type": "stream",
     "text": [
      "A quantidade de casas disponíveis é de 21436 unidades.\n"
     ]
    }
   ],
   "source": [
    "#1. Quantas casas estão disponíveis para compra?\n",
    "disp = data.shape[0]\n",
    "print(f\"A quantidade de casas disponíveis é de {disp} unidades.\")"
   ]
  },
  {
   "cell_type": "code",
   "execution_count": 22,
   "id": "stock-disposition",
   "metadata": {
    "ExecuteTime": {
     "end_time": "2021-02-27T20:52:37.234773Z",
     "start_time": "2021-02-27T20:52:37.231932Z"
    }
   },
   "outputs": [
    {
     "name": "stdout",
     "output_type": "stream",
     "text": [
      "São 21 os atributos das casas.\n"
     ]
    }
   ],
   "source": [
    "#2. Quantos atributos as casas possuem?\n",
    "atrib = data.shape[1]\n",
    "print(f\"São {atrib} os atributos das casas.\")"
   ]
  },
  {
   "cell_type": "code",
   "execution_count": 49,
   "id": "ordered-slovenia",
   "metadata": {
    "ExecuteTime": {
     "end_time": "2021-02-27T21:11:19.772633Z",
     "start_time": "2021-02-27T21:11:19.768718Z"
    }
   },
   "outputs": [
    {
     "name": "stdout",
     "output_type": "stream",
     "text": [
      "Os atributos são: Index(['id', 'date', 'price', 'bedrooms', 'bathrooms', 'sqft_living',\n",
      "       'sqft_lot', 'floors', 'waterfront', 'view', 'condition', 'grade',\n",
      "       'sqft_above', 'sqft_basement', 'yr_built', 'yr_renovated', 'zipcode',\n",
      "       'lat', 'long', 'sqft_living15', 'sqft_lot15'],\n",
      "      dtype='object')\n"
     ]
    }
   ],
   "source": [
    "#3. Quais são os atributos das casas?\n",
    "qatrib = data.columns\n",
    "print(f\"Os atributos são: {qatrib}\")"
   ]
  },
  {
   "cell_type": "code",
   "execution_count": 34,
   "id": "solved-plane",
   "metadata": {
    "ExecuteTime": {
     "end_time": "2021-02-27T21:00:03.519120Z",
     "start_time": "2021-02-27T21:00:03.511767Z"
    }
   },
   "outputs": [
    {
     "name": "stdout",
     "output_type": "stream",
     "text": [
      "A casa mais cara é a de ID 6762700020, e o seu valor é de US$7700000.0\n"
     ]
    }
   ],
   "source": [
    "#4. Qual a casa mais cara?\n",
    "mvalor = data.loc[data['price'] == max(data['price']), 'id'].item()\n",
    "mvalorc = data['price'].max()\n",
    "print(f\"A casa mais cara é a de ID {mvalor}, e o seu valor é de US${mvalorc}\")"
   ]
  },
  {
   "cell_type": "code",
   "execution_count": 36,
   "id": "external-interpretation",
   "metadata": {
    "ExecuteTime": {
     "end_time": "2021-02-27T21:02:07.088511Z",
     "start_time": "2021-02-27T21:02:07.080126Z"
    }
   },
   "outputs": [
    {
     "name": "stdout",
     "output_type": "stream",
     "text": [
      "A casa com o maior número de quarto é a com ID 2402100895 com a quantidade de 33 quartos.\n"
     ]
    }
   ],
   "source": [
    "#5. Qual a casa com o maior número de quartos?\n",
    "mquartos = data.loc[data['bedrooms'] == max(data['bedrooms']), 'id'].item()\n",
    "nquartos = data['bedrooms'].max()\n",
    "print(f\"A casa com o maior número de quarto é a com ID {mquartos} com a quantidade de {nquartos} quartos.\")"
   ]
  },
  {
   "cell_type": "code",
   "execution_count": 38,
   "id": "organic-disorder",
   "metadata": {
    "ExecuteTime": {
     "end_time": "2021-02-27T21:03:44.446895Z",
     "start_time": "2021-02-27T21:03:44.443467Z"
    }
   },
   "outputs": [
    {
     "name": "stdout",
     "output_type": "stream",
     "text": [
      "O total de quartos no portfólio é de 72273 quartos\n"
     ]
    }
   ],
   "source": [
    "#6. Qual a soma total de quartos do conunto de dados?\n",
    "squartos = data.loc[:, 'bedrooms'].sum()\n",
    "print(f\"O total de quartos no portfólio é de {squartos} quartos\")"
   ]
  },
  {
   "cell_type": "code",
   "execution_count": 40,
   "id": "invisible-chocolate",
   "metadata": {
    "ExecuteTime": {
     "end_time": "2021-02-27T21:05:46.286942Z",
     "start_time": "2021-02-27T21:05:46.281267Z"
    }
   },
   "outputs": [
    {
     "name": "stdout",
     "output_type": "stream",
     "text": [
      "O total de casas com 2 banheiros é de 1913 imóveis\n"
     ]
    }
   ],
   "source": [
    "#7. Quantas casas possuem 2 banheiros?\n",
    "b2 = data.loc[data['bathrooms'] == 2, 'id'].value_counts().sum()\n",
    "print(f\"O total de casas com 2 banheiros é de {b2} imóveis\")"
   ]
  },
  {
   "cell_type": "code",
   "execution_count": 42,
   "id": "quality-winner",
   "metadata": {
    "ExecuteTime": {
     "end_time": "2021-02-27T21:07:34.096463Z",
     "start_time": "2021-02-27T21:07:34.093432Z"
    }
   },
   "outputs": [
    {
     "name": "stdout",
     "output_type": "stream",
     "text": [
      "A média de preços de todas as casas é de US$541649.96\n"
     ]
    }
   ],
   "source": [
    "#8. Qual o preço médio de todas as casas no conjunto de dados?\n",
    "mp = data['price'].mean()\n",
    "print(f\"A média de preços de todas as casas é de US${mp:5.2f}\")"
   ]
  },
  {
   "cell_type": "code",
   "execution_count": 46,
   "id": "frozen-least",
   "metadata": {
    "ExecuteTime": {
     "end_time": "2021-02-27T21:09:28.042833Z",
     "start_time": "2021-02-27T21:09:28.038800Z"
    }
   },
   "outputs": [
    {
     "name": "stdout",
     "output_type": "stream",
     "text": [
      "O preço médio das casas com 2 banheiros é de US$459307.01\n"
     ]
    }
   ],
   "source": [
    "#9. Qual o preço médio de casas com 2 banheiros?\n",
    "pm2b = data.loc[data['bathrooms'] == 2, 'price'].mean()\n",
    "print(f\"O preço médio das casas com 2 banheiros é de US${pm2b:5.2f}\")"
   ]
  },
  {
   "cell_type": "code",
   "execution_count": 48,
   "id": "cognitive-cosmetic",
   "metadata": {
    "ExecuteTime": {
     "end_time": "2021-02-27T21:10:49.180595Z",
     "start_time": "2021-02-27T21:10:49.176754Z"
    }
   },
   "outputs": [
    {
     "name": "stdout",
     "output_type": "stream",
     "text": [
      "O preço mínimo entre as casas com 3 quartos é de US$89000.00\n"
     ]
    }
   ],
   "source": [
    "#10. Qual o preço mínimo entre as casas com 3 quartos?\n",
    "pm3q = data.loc[data['bedrooms'] == 3, 'price'].min()\n",
    "print(f\"O preço mínimo entre as casas com 3 quartos é de US${pm3q:5.2f}\")"
   ]
  }
 ],
 "metadata": {
  "kernelspec": {
   "display_name": "Python 3",
   "language": "python",
   "name": "python3"
  },
  "language_info": {
   "codemirror_mode": {
    "name": "ipython",
    "version": 3
   },
   "file_extension": ".py",
   "mimetype": "text/x-python",
   "name": "python",
   "nbconvert_exporter": "python",
   "pygments_lexer": "ipython3",
   "version": "3.7.9"
  }
 },
 "nbformat": 4,
 "nbformat_minor": 5
}
